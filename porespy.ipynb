{
 "cells": [
  {
   "cell_type": "markdown",
   "id": "4aa8ea78-aab3-47a9-8b4f-8a2197a83fee",
   "metadata": {},
   "source": [
    "# Pore analysis testing"
   ]
  },
  {
   "cell_type": "code",
   "execution_count": null,
   "id": "2d731507-b319-4b50-a976-f43efc64771b",
   "metadata": {},
   "outputs": [],
   "source": [
    "# Is porespy installed correctly?\n",
    "import porespy as ps\n",
    "import matplotlib.pyplot as plt\n",
    "im = ps.generators.blobs(shape=[500, 500], porosity=0.6, blobiness=2)\n",
    "plt.imshow(im)\n",
    "plt.show()"
   ]
  },
  {
   "cell_type": "code",
   "execution_count": null,
   "id": "cdc883cc-58d4-4042-9183-c4d003d1e4fe",
   "metadata": {},
   "outputs": [],
   "source": [
    "# General notebook settings\n",
    "import seaborn\n",
    "# Set seaborn theme\n",
    "seaborn.set_theme(context='notebook', style='ticks')\n",
    "# Set up figure defaults\n",
    "plt.rc('image', cmap='gray', interpolation='nearest')  # Display all images in b&w and with 'nearest' interpolation"
   ]
  },
  {
   "cell_type": "code",
   "execution_count": null,
   "id": "6f9d2854-8ce4-41f6-9a6a-1eaa317bc69c",
   "metadata": {},
   "outputs": [],
   "source": [
    "# Let's look at an image from Alina"
   ]
  },
  {
   "cell_type": "code",
   "execution_count": null,
   "id": "7b301b8d-d460-4fa6-bbe4-9cf47f92c2bc",
   "metadata": {},
   "outputs": [],
   "source": [
    "import platform\n",
    "import os"
   ]
  },
  {
   "cell_type": "code",
   "execution_count": null,
   "id": "e570c5c6-9c9a-420f-ab03-b98a4d773ada",
   "metadata": {},
   "outputs": [],
   "source": [
    "if 'Win' in platform.system():\n",
    "    Root = 'F:/'\n",
    "else:\n",
    "    Root = '/media/habi/Fast_SSD'\n",
    "Path = os.path.join(Root, 'Schmid BFH Methylcellulose')\n",
    "print('Our base path is %s' % Path)"
   ]
  },
  {
   "cell_type": "code",
   "execution_count": null,
   "id": "9e52ba82-5b4d-40c0-aa52-298064b69833",
   "metadata": {},
   "outputs": [],
   "source": [
    "import imageio"
   ]
  },
  {
   "cell_type": "code",
   "execution_count": null,
   "id": "e59433c2-33ab-4c4a-b54e-bb20743ba141",
   "metadata": {},
   "outputs": [],
   "source": [
    "import glob"
   ]
  },
  {
   "cell_type": "code",
   "execution_count": null,
   "id": "ed99fba6-8fc8-4cc3-bab4-8c55d1d50bfd",
   "metadata": {},
   "outputs": [],
   "source": [
    "# Load middle image from one scan"
   ]
  },
  {
   "cell_type": "code",
   "execution_count": null,
   "id": "d9825845-2dce-4f2e-9f71-107efde5a6c6",
   "metadata": {},
   "outputs": [],
   "source": [
    "Folder = os.path.join(Path, 'Blobs', 'MC-Titanweiss', 'rec')"
   ]
  },
  {
   "cell_type": "code",
   "execution_count": null,
   "id": "e35dcc32-4582-4e74-92b7-6008b8729fd3",
   "metadata": {},
   "outputs": [],
   "source": [
    "ImageList = sorted(glob.glob(os.path.join(Folder, '*.png')))"
   ]
  },
  {
   "cell_type": "code",
   "execution_count": null,
   "id": "5b4fbe17-b8d2-490d-aa0b-ca955acaaf44",
   "metadata": {},
   "outputs": [],
   "source": [
    "print('Found %s images in %s' % (len(ImageList), Folder))\n",
    "print('Loading the middle one below')"
   ]
  },
  {
   "cell_type": "code",
   "execution_count": null,
   "id": "0622bf56-5379-4ce6-a374-3dd6813d4d2e",
   "metadata": {},
   "outputs": [],
   "source": [
    "# Load test image\n",
    "inputimage = imageio.imread(ImageList[len(ImageList)//2], pilmode='L')"
   ]
  },
  {
   "cell_type": "code",
   "execution_count": null,
   "id": "40c17846-93ca-4152-9ab4-c75750c37c0e",
   "metadata": {},
   "outputs": [],
   "source": [
    "# Show test image\n",
    "plt.imshow(inputimage)\n",
    "plt.title(inputimage.shape)\n",
    "plt.show()"
   ]
  },
  {
   "cell_type": "code",
   "execution_count": null,
   "id": "c972b263-c77f-4114-bf2d-1ce30d26d943",
   "metadata": {},
   "outputs": [],
   "source": [
    "# Use only central part of the image\n",
    "crop = 666\n",
    "plt.subplot(121)\n",
    "croppedimage = inputimage[crop:-crop,crop:-crop]\n",
    "plt.imshow(croppedimage)\n",
    "plt.show()"
   ]
  },
  {
   "cell_type": "code",
   "execution_count": null,
   "id": "df768261-b440-40ae-904a-18ddae31510d",
   "metadata": {},
   "outputs": [],
   "source": [
    "import skimage"
   ]
  },
  {
   "cell_type": "code",
   "execution_count": null,
   "id": "84fcb016-69ca-4156-a649-952216a16eda",
   "metadata": {},
   "outputs": [],
   "source": [
    "skimage.filters.gaussian?"
   ]
  },
  {
   "cell_type": "code",
   "execution_count": null,
   "id": "27c6643d-c135-403a-a7b9-429f6d5afd1c",
   "metadata": {},
   "outputs": [],
   "source": [
    "# Calculate a threshold to separate into foam and background\n",
    "threshold_iso = skimage.filters.threshold_isodata(croppedimage)\n",
    "threshold_otsu = skimage.filters.threshold_otsu(croppedimage)"
   ]
  },
  {
   "cell_type": "code",
   "execution_count": null,
   "id": "404dd073-b2f7-40ae-b874-3445d846934e",
   "metadata": {},
   "outputs": [],
   "source": [
    "# Display gray value histogram of image\n",
    "histogram = plt.hist(croppedimage.ravel(),\n",
    "                     bins='doane', # nice bin size selection\n",
    "                     histtype='bar',\n",
    "                     log=True,\n",
    "                     label='Histogram',\n",
    "                     color=seaborn.color_palette()[0])\n",
    "plt.axvline(threshold_iso, label='Isodata-Threshold@%s' % threshold_iso, c=seaborn.color_palette()[1])\n",
    "plt.axvline(threshold_otsu, label='Otsu-Threshold@%s' % threshold_otsu, c=seaborn.color_palette()[2])\n",
    "plt.legend()\n",
    "plt.title('Logarithmic grayvalue histogram with %s bins' % len(histogram[1]))\n",
    "seaborn.despine()\n",
    "plt.show()"
   ]
  },
  {
   "cell_type": "code",
   "execution_count": null,
   "id": "d5dc564c-f458-45a6-98b7-cd5c8e890bf7",
   "metadata": {},
   "outputs": [],
   "source": [
    "binarizedimage = croppedimage < threshold_iso  # porespy expects 'True' for features of interest, so we true stuff smaller than the threshold, e.g the air"
   ]
  },
  {
   "cell_type": "code",
   "execution_count": null,
   "id": "b2357076-ef02-409c-913c-c18d32584461",
   "metadata": {},
   "outputs": [],
   "source": [
    "plt.subplot(121)\n",
    "plt.imshow(croppedimage)\n",
    "plt.subplot(122)\n",
    "plt.imshow(~binarizedimage) # Invert for displaying\n",
    "plt.show()"
   ]
  },
  {
   "cell_type": "code",
   "execution_count": null,
   "id": "20b7c851-ec7c-47db-9c9f-3c1b7e97d136",
   "metadata": {},
   "outputs": [],
   "source": [
    "localthickness=ps.filters.local_thickness(binarizedimage)"
   ]
  },
  {
   "cell_type": "code",
   "execution_count": null,
   "id": "98c7f73f-ba12-4948-bd76-8b08c5272c14",
   "metadata": {},
   "outputs": [],
   "source": [
    "len(np.unique(localthickness))"
   ]
  },
  {
   "cell_type": "code",
   "execution_count": null,
   "id": "8844a028-d20c-4c11-a255-dc0b4bd69b0b",
   "metadata": {},
   "outputs": [],
   "source": [
    "plt.subplot(131)\n",
    "plt.imshow(localthickness)\n",
    "plt.subplot(132)\n",
    "plt.imshow(localthickness/binarizedimage)\n",
    "plt.subplot(133)\n",
    "plt.imshow(~binarizedimage, interpolation='auto')\n",
    "plt.show()"
   ]
  },
  {
   "cell_type": "code",
   "execution_count": null,
   "id": "8adf9392-8d18-442a-abf3-71469e6361fd",
   "metadata": {},
   "outputs": [],
   "source": [
    "import scipy"
   ]
  },
  {
   "cell_type": "code",
   "execution_count": null,
   "id": "b3311450-4ead-425b-aba1-98ed63350a94",
   "metadata": {},
   "outputs": [],
   "source": [
    "dt = scipy.ndimage.distance_transform_edt(binarizedimage)\n",
    "distance = 250\n",
    "peaks = skimage.feature.peak_local_max(dt, min_distance=distance)\n",
    "# skeleton = skimage.morphology.skeletonize(skimage.morphology.dilation(binarizedimage))"
   ]
  },
  {
   "cell_type": "code",
   "execution_count": null,
   "id": "414d1512-119f-485c-ae8c-ebd317b8f22b",
   "metadata": {},
   "outputs": [],
   "source": [
    "# plt.imshow(skeleton)"
   ]
  },
  {
   "cell_type": "code",
   "execution_count": null,
   "id": "d367e3bb-8c32-4eb9-8fe8-6cfb77fc10e1",
   "metadata": {},
   "outputs": [],
   "source": [
    "plt.imshow(dt/binarizedimage, cmap='viridis')\n",
    "for peak in peaks:\n",
    "    plt.scatter(peak[1], peak[0], marker='x', c='white')\n",
    "plt.title('Distance transformation with %s overlaid peaks > %s px' % (len(peaks), distance))\n",
    "plt.show()"
   ]
  },
  {
   "cell_type": "code",
   "execution_count": null,
   "id": "71b0c163-3371-458e-9e15-2c44261b1d33",
   "metadata": {},
   "outputs": [],
   "source": [
    "pk = ps.filters.find_peaks(dt)"
   ]
  },
  {
   "cell_type": "code",
   "execution_count": null,
   "id": "1fe9bcf4-9a91-4022-a270-9c720d8c1136",
   "metadata": {},
   "outputs": [],
   "source": [
    "crop = 800"
   ]
  },
  {
   "cell_type": "code",
   "execution_count": null,
   "id": "fe7e6e43-3cc5-428c-8641-d5200ab0abd7",
   "metadata": {},
   "outputs": [],
   "source": [
    "fig, ax = plt.subplots(1, 2, figsize=[6, 3])\n",
    "\n",
    "pk = ps.filters.find_peaks(dt=dt)\n",
    "ax[0].imshow((dt/binarizedimage)[crop:-crop,crop:-crop])\n",
    "ax[0].axis(False)\n",
    "\n",
    "ax[1].imshow(dt[crop:-crop,crop:-crop]/\n",
    "             binarizedimage[crop:-crop,crop:-crop]/\n",
    "             ~skimage.morphology.dilation(skimage.morphology.dilation(skimage.morphology.dilation(pk[crop:-crop,crop:-crop]))))\n",
    "ax[1].axis(False);"
   ]
  },
  {
   "cell_type": "code",
   "execution_count": null,
   "id": "c89ea3f2-d340-4177-9874-40bbe2e48d1c",
   "metadata": {},
   "outputs": [],
   "source": [
    "np.unique(skimage.morphology.dilation(pk))"
   ]
  },
  {
   "cell_type": "code",
   "execution_count": null,
   "id": "70468353-621e-4b78-92e3-f7a813dc8f3c",
   "metadata": {},
   "outputs": [],
   "source": [
    "crop = 1200"
   ]
  },
  {
   "cell_type": "code",
   "execution_count": null,
   "id": "2ab1441d-e173-4a78-b237-dd073bace2d4",
   "metadata": {},
   "outputs": [],
   "source": [
    "plt.imshow(localthickness[crop:-crop,crop:-crop]/binarizedimage[crop:-crop,crop:-crop], interpolation='none')\n",
    "plt.show()"
   ]
  },
  {
   "cell_type": "code",
   "execution_count": null,
   "id": "58334cd5-e547-4dd7-8351-c7b130a19273",
   "metadata": {},
   "outputs": [],
   "source": [
    "plt.imshow(localthickness[crop:-crop,crop:-crop]/binarizedimage[crop:-crop,crop:-crop], cmap='viridis')\n",
    "plt.show()"
   ]
  },
  {
   "cell_type": "markdown",
   "id": "2e01251f-be18-4950-860a-5997f1516a32",
   "metadata": {},
   "source": [
    "Pore size distribution as per https://porespy.org/examples/metrics/reference/pore_size_distribution.html"
   ]
  },
  {
   "cell_type": "code",
   "execution_count": null,
   "id": "c1d5dd41-071a-4ba5-a370-a24b6247965a",
   "metadata": {},
   "outputs": [],
   "source": [
    "data = ps.metrics.pore_size_distribution(im=localthickness)\n",
    "fig, ax = plt.subplots(1, 3, figsize=[10, 4])\n",
    "ax[0].plot(data.bin_centers, data.pdf)\n",
    "ax[1].plot(data.bin_centers, data.cdf)\n",
    "ax[2].bar(data.bin_centers, data.cdf, data.bin_widths, edgecolor='k')\n",
    "ax[0].set_title(\"Probability Density Function\")\n",
    "ax[1].set_title(\"Cumulative Density Function\")\n",
    "ax[2].set_title('Bar Plot');"
   ]
  },
  {
   "cell_type": "code",
   "execution_count": null,
   "id": "d4eff32c-1b2b-4b5c-973d-baf98a08fd7f",
   "metadata": {},
   "outputs": [],
   "source": [
    "data = ps.metrics.pore_size_distribution(im=localthickness, bins=100)\n",
    "fig, ax = plt.subplots(1, 3, figsize=[10, 4])\n",
    "ax[0].plot(data.bin_centers,data.pdf)\n",
    "ax[1].plot(data.bin_centers,data.cdf)\n",
    "ax[2].bar(data.bin_centers, data.cdf, data.bin_widths, edgecolor='k')\n",
    "ax[0].set_title(\"Probability Density Function\")\n",
    "ax[1].set_title(\"Cumulative Density Function\")\n",
    "ax[2].set_title('Bar Plot');"
   ]
  },
  {
   "cell_type": "code",
   "execution_count": null,
   "id": "3c308a62-f96b-4f01-b22f-7318fe86bb17",
   "metadata": {},
   "outputs": [],
   "source": [
    "data = ps.metrics.pore_size_distribution(im=localthickness, log=False)\n",
    "fig, ax = plt.subplots(1, 3, figsize=[10, 4])\n",
    "ax[0].plot(data.bin_centers,data.pdf)\n",
    "ax[1].plot(data.bin_centers,data.cdf)\n",
    "ax[2].bar(data.bin_centers, data.cdf, data.bin_widths, edgecolor='k')\n",
    "ax[0].set_title(\"Probability Density Function\")\n",
    "ax[1].set_title(\"Cumulative Density Function\")\n",
    "ax[2].set_title('Bar Plot');"
   ]
  },
  {
   "cell_type": "code",
   "execution_count": null,
   "id": "9e7c3227-22f8-4f0c-a5ec-82dd5a9b0d96",
   "metadata": {},
   "outputs": [],
   "source": [
    "voxel_size=1.5e-3\n",
    "data = ps.metrics.pore_size_distribution(im=localthickness, voxel_size=voxel_size, log=True)\n",
    "fig, ax = plt.subplots(1, 2, figsize=[10, 4])\n",
    "ax[0].bar(data.bin_centers, data.cdf, data.bin_widths, edgecolor='k');\n",
    "ax[0].set_title(\"PDF scaling included in the result\");\n",
    "data = ps.metrics.pore_size_distribution(im=im, log=False)\n",
    "ax[1].bar(data.bin_centers*voxel_size, data.cdf, data.bin_widths*voxel_size, edgecolor='k');\n",
    "ax[1].set_title(\"PDF scaling after the result\");"
   ]
  },
  {
   "cell_type": "code",
   "execution_count": null,
   "id": "c9d9d085-6f45-4a1f-a7b5-1c7a96df855a",
   "metadata": {},
   "outputs": [],
   "source": [
    "print(data)"
   ]
  },
  {
   "cell_type": "code",
   "execution_count": null,
   "id": "1fceebec-f7f2-4108-96ef-9795c03ce353",
   "metadata": {},
   "outputs": [],
   "source": [
    "print(data.bin_centers)"
   ]
  },
  {
   "cell_type": "code",
   "execution_count": null,
   "id": "b18d5373-cb16-4346-a60b-7bc5ca0b92e7",
   "metadata": {},
   "outputs": [],
   "source": [
    "fig, ax = plt.subplots(figsize=(5, 4))\n",
    "ax.set_xlabel('log(Pore Radius) [voxels]')\n",
    "ax.set_ylabel('Normalized Volume Fraction')\n",
    "ax.bar(x=psd.LogR, height=psd.pdf, width=psd.bin_widths, edgecolor='k');"
   ]
  },
  {
   "cell_type": "code",
   "execution_count": null,
   "id": "f03ca583-e720-42fe-b715-8797b5e178ee",
   "metadata": {},
   "outputs": [],
   "source": [
    "import numpy as np"
   ]
  },
  {
   "cell_type": "code",
   "execution_count": null,
   "id": "e22a49d2-13f0-4811-9bda-119f727d10d3",
   "metadata": {},
   "outputs": [],
   "source": [
    "from skimage.morphology import binary_dilation\n",
    "ps.visualization.set_mpl_style()\n",
    "np.random.seed(1)"
   ]
  },
  {
   "cell_type": "code",
   "execution_count": null,
   "id": "252fafd2-7273-4ce0-889c-b59af1a304f2",
   "metadata": {},
   "outputs": [],
   "source": [
    "im = croppedimage < threshold_iso"
   ]
  },
  {
   "cell_type": "code",
   "execution_count": null,
   "id": "6772a05b-5c90-42c1-a4c3-6239acd10d2c",
   "metadata": {},
   "outputs": [],
   "source": [
    "# im = ps.generators.overlapping_spheres([500, 500], r=10, porosity=0.5)\n",
    "fig, ax = plt.subplots()\n",
    "ax.imshow(im, origin='lower');"
   ]
  },
  {
   "cell_type": "code",
   "execution_count": null,
   "id": "9b8857fc-be3e-4c10-8edc-1c2b31f57469",
   "metadata": {},
   "outputs": [],
   "source": [
    "snow_out = ps.filters.snow_partitioning(im, r_max=4, sigma=0.4)\n",
    "print(snow_out)"
   ]
  },
  {
   "cell_type": "code",
   "execution_count": null,
   "id": "be2fd171-dfcc-4160-96a7-b1915af335c9",
   "metadata": {},
   "outputs": [],
   "source": [
    "fig, ax = plt.subplots(2, 2, figsize=[8, 8])\n",
    "ax[0, 0].imshow(snow_out.im)\n",
    "ax[0, 1].imshow(snow_out.dt/binarizedimage)\n",
    "dt_peak = snow_out.dt.copy()\n",
    "peaks_dilated = binary_dilation(snow_out.peaks > 0)\n",
    "dt_peak[peaks_dilated > 0] = np.nan\n",
    "ax[1, 0].imshow(dt_peak/binarizedimage)\n",
    "ax[1, 1].imshow(ps.tools.randomize_colors(snow_out.regions)/binarizedimage)\n",
    "ax[0, 0].set_title(\"Binary image\");\n",
    "ax[0, 1].set_title(\"Distance transform\");\n",
    "ax[1, 0].set_title(\"Distance transform peaks\");\n",
    "ax[1, 1].set_title(\"Segmentation\");"
   ]
  },
  {
   "cell_type": "code",
   "execution_count": null,
   "id": "3c28a9e4-a515-405e-b49a-9089365f561f",
   "metadata": {},
   "outputs": [],
   "source": []
  },
  {
   "cell_type": "code",
   "execution_count": null,
   "id": "574b4a4d-d909-48d3-a3d6-006d6e9d5abf",
   "metadata": {},
   "outputs": [],
   "source": [
    "from skimage.io import imread_collection"
   ]
  },
  {
   "cell_type": "code",
   "execution_count": null,
   "id": "c6b6f287-9848-4932-b57b-490bd2d420de",
   "metadata": {},
   "outputs": [],
   "source": [
    "seq = imread_collection('/media/habi/Fast_SSD/Schmid BFH Methylcellulose/Blobs/MC-Titanweiss/rec/TiO_rec00002[12]*.png')"
   ]
  },
  {
   "cell_type": "code",
   "execution_count": null,
   "id": "bf02a8c7-fb45-4c6d-bf5b-c3cfba1adee8",
   "metadata": {},
   "outputs": [],
   "source": [
    "len(seq.files)"
   ]
  },
  {
   "cell_type": "code",
   "execution_count": null,
   "id": "0e2d6445-87e4-4d80-91ca-a22ccaaa11c3",
   "metadata": {},
   "outputs": [],
   "source": [
    "from matplotlib.pyplot import subplots"
   ]
  },
  {
   "cell_type": "code",
   "execution_count": null,
   "id": "d5039961-dd01-4888-885b-0345eb765356",
   "metadata": {},
   "outputs": [],
   "source": [
    "crop=100"
   ]
  },
  {
   "cell_type": "code",
   "execution_count": null,
   "id": "63d77dec-834f-4ecb-97e0-d5bb8ddb7173",
   "metadata": {},
   "outputs": [],
   "source": [
    "fig, ax = subplots(figsize=[5, 5])\n",
    "ax.imshow(seq[0][1000+crop:-800-crop,600+crop:-1200-crop,0])"
   ]
  },
  {
   "cell_type": "code",
   "execution_count": null,
   "id": "462d930c-1d1f-4986-8599-9c1024bc1ccb",
   "metadata": {},
   "outputs": [],
   "source": [
    "im3d = np.zeros([*seq[0][1000+crop:-800-crop,600+crop:-1200-crop,0].shape, len(seq)])\n",
    "for i, im in enumerate(seq):\n",
    "    im3d[..., i] = im[1000+crop:-800-crop,600+crop:-1200-crop,0]"
   ]
  },
  {
   "cell_type": "code",
   "execution_count": null,
   "id": "7e83aab6-8f6f-43ff-956f-c6151a81b272",
   "metadata": {},
   "outputs": [],
   "source": [
    "im3d.shape"
   ]
  },
  {
   "cell_type": "code",
   "execution_count": null,
   "id": "88f58993-1cd5-4f71-8d14-d8552e91bda1",
   "metadata": {},
   "outputs": [],
   "source": [
    "ps.visualization.show_planes?"
   ]
  },
  {
   "cell_type": "code",
   "execution_count": null,
   "id": "8fc42223-67f8-42de-a1ee-b848345fb37f",
   "metadata": {},
   "outputs": [],
   "source": [
    "ps.visualization.show_panels(im3d, axis=2)"
   ]
  },
  {
   "cell_type": "code",
   "execution_count": null,
   "id": "63c3a57e-9521-4846-b785-e4bb90a2aedd",
   "metadata": {},
   "outputs": [],
   "source": [
    "plt.imshow(ps.visualization.show_planes(im3d, spacing=150), cmap='magma')\n",
    "plt.show()"
   ]
  },
  {
   "cell_type": "code",
   "execution_count": null,
   "id": "462d89fd-510d-4913-90c3-bab96a78b3f4",
   "metadata": {},
   "outputs": [],
   "source": [
    "fig, ax = subplots(figsize=[5, 5])\n",
    "ax.hist(im3d.flatten(), bins='doane', log=True);"
   ]
  },
  {
   "cell_type": "code",
   "execution_count": null,
   "id": "f15a0c4e-eb9b-40ff-b6bc-023ca9f7db00",
   "metadata": {},
   "outputs": [],
   "source": [
    "fig, ax = subplots(figsize=[5, 5])\n",
    "ax.imshow(im3d[..., 0] < threshold_otsu);"
   ]
  },
  {
   "cell_type": "code",
   "execution_count": null,
   "id": "d20ba7eb-b4c3-4fd8-8002-e3073aac8de6",
   "metadata": {},
   "outputs": [],
   "source": [
    "im = im3d < threshold_otsu\n",
    "fig, ax = subplots(figsize=[5, 5])\n",
    "ax.imshow(ps.visualization.sem(im, axis=2), cmap='grey');"
   ]
  },
  {
   "cell_type": "code",
   "execution_count": null,
   "id": "83327fe5-ec75-47cb-9b92-05ce65d2a652",
   "metadata": {},
   "outputs": [],
   "source": [
    "import numpy as np\n",
    "import porespy as ps\n",
    "import scipy.ndimage as spim\n",
    "import matplotlib.pyplot as plt\n",
    "ps.visualization.set_mpl_style()\n",
    "np.random.seed(1)"
   ]
  },
  {
   "cell_type": "code",
   "execution_count": null,
   "id": "9947778d-2a0e-423c-b73e-7e961dc7e080",
   "metadata": {},
   "outputs": [],
   "source": [
    "im = ps.generators.blobs(shape=[200, 200], porosity=0.6, blobiness=1)\n",
    "fig, ax = plt.subplots()\n",
    "ax.imshow(im, cmap=plt.cm.inferno);"
   ]
  },
  {
   "cell_type": "code",
   "execution_count": null,
   "id": "7979fdaa-c3a0-4d7b-887c-44348ebf1632",
   "metadata": {},
   "outputs": [],
   "source": [
    "snow = ps.filters.snow_partitioning(im=im)\n",
    "regions = snow.regions*snow.im"
   ]
  },
  {
   "cell_type": "code",
   "execution_count": null,
   "id": "af915fd2-0b18-4c0d-abea-490d71c37e38",
   "metadata": {},
   "outputs": [],
   "source": [
    "fig, ax = plt.subplots()\n",
    "ax.imshow(regions);"
   ]
  },
  {
   "cell_type": "code",
   "execution_count": null,
   "id": "7ff9da2d-0fd7-4b3f-b81d-5c36f917ba5a",
   "metadata": {},
   "outputs": [],
   "source": [
    "props = ps.metrics.regionprops_3D(regions)"
   ]
  },
  {
   "cell_type": "code",
   "execution_count": null,
   "id": "3cbd71f2-c410-4084-a314-e4717987feb1",
   "metadata": {},
   "outputs": [],
   "source": [
    "r = props[0]\n",
    "attrs = [a for a in r.__dir__() if not a.startswith('_')]\n",
    "print(attrs)"
   ]
  },
  {
   "cell_type": "code",
   "execution_count": null,
   "id": "afe7503f-4f94-40b6-bc2a-77ba55408885",
   "metadata": {},
   "outputs": [],
   "source": [
    "fig, ax = plt.subplots()\n",
    "ax.imshow(r.image);"
   ]
  },
  {
   "cell_type": "code",
   "execution_count": null,
   "id": "0d25115d-0032-44f6-8b3b-47dfe4a9ff0f",
   "metadata": {},
   "outputs": [],
   "source": [
    "fig, ax = plt.subplots()\n",
    "ax.imshow(r.border + 0.5*r.inscribed_sphere);"
   ]
  },
  {
   "cell_type": "code",
   "execution_count": null,
   "id": "040b721a-fdb2-45dc-ae3a-1566e8e7efab",
   "metadata": {},
   "outputs": [],
   "source": [
    "fig, ax = plt.subplots()\n",
    "ax.imshow(r.image + 1.0*r.convex_image);"
   ]
  },
  {
   "cell_type": "code",
   "execution_count": null,
   "id": "13cdafa2-3119-4856-8b48-febd8ce7503a",
   "metadata": {},
   "outputs": [],
   "source": [
    "print(f\"Solidity: {r.solidity:.3f}\")"
   ]
  },
  {
   "cell_type": "code",
   "execution_count": null,
   "id": "02043fe9-2249-49c6-944c-d228ec807cde",
   "metadata": {},
   "outputs": [],
   "source": [
    "df = ps.metrics.props_to_DataFrame(props)"
   ]
  },
  {
   "cell_type": "code",
   "execution_count": null,
   "id": "6ee5305c-f667-4d05-b5bc-09b04ec1fb2a",
   "metadata": {},
   "outputs": [],
   "source": [
    "fig, ax = plt.subplots(1, 3, figsize=(8, 3))\n",
    "ax[0].hist(df['volume'], edgecolor=\"k\")\n",
    "ax[1].hist(df['solidity'], edgecolor=\"k\")\n",
    "ax[2].hist(df['sphericity'], edgecolor=\"k\");\n",
    "ax[0].set_title(\"Volume\")\n",
    "ax[1].set_title(\"Solidity\")\n",
    "ax[2].set_title(\"Sphericity\");"
   ]
  },
  {
   "cell_type": "code",
   "execution_count": null,
   "id": "bd894688-0423-4781-83d2-4f826cc88a45",
   "metadata": {},
   "outputs": [],
   "source": [
    "df.iloc[0]"
   ]
  },
  {
   "cell_type": "code",
   "execution_count": null,
   "id": "f764b342-61bf-4198-8453-53f707c7b975",
   "metadata": {},
   "outputs": [],
   "source": [
    "# Create an image of maximally inscribed spheres\n",
    "sph = ps.metrics.prop_to_image(regionprops=props, shape=im.shape, prop='inscribed_sphere')\n",
    "fig, ax = plt.subplots()\n",
    "ax.imshow(sph + 0.5*(~im) , cmap=plt.cm.inferno);"
   ]
  },
  {
   "cell_type": "code",
   "execution_count": null,
   "id": "0ec254a9-69f3-4373-affb-8cc75786fc3f",
   "metadata": {},
   "outputs": [],
   "source": [
    "# Create an image colorized by solidity\n",
    "sph = ps.metrics.prop_to_image(regionprops=props, shape=im.shape, prop='solidity')\n",
    "fig, ax = plt.subplots()\n",
    "ax.imshow(sph + 0.5*(~im) , cmap='viridis');"
   ]
  },
  {
   "cell_type": "code",
   "execution_count": null,
   "id": "b389fd51-8788-4338-badc-be12c54defd8",
   "metadata": {},
   "outputs": [],
   "source": []
  }
 ],
 "metadata": {
  "kernelspec": {
   "display_name": "Python 3 (ipykernel)",
   "language": "python",
   "name": "python3"
  },
  "language_info": {
   "codemirror_mode": {
    "name": "ipython",
    "version": 3
   },
   "file_extension": ".py",
   "mimetype": "text/x-python",
   "name": "python",
   "nbconvert_exporter": "python",
   "pygments_lexer": "ipython3",
   "version": "3.12.8"
  }
 },
 "nbformat": 4,
 "nbformat_minor": 5
}
