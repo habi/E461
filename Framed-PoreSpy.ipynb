{
 "cells": [
  {
   "cell_type": "markdown",
   "id": "4aa8ea78-aab3-47a9-8b4f-8a2197a83fee",
   "metadata": {},
   "source": [
    "# Porespy analysis of the 'framed' scan"
   ]
  },
  {
   "cell_type": "code",
   "execution_count": null,
   "id": "cdc883cc-58d4-4042-9183-c4d003d1e4fe",
   "metadata": {},
   "outputs": [],
   "source": [
    "# General notebook settings\n",
    "import seaborn\n",
    "# Set seaborn theme\n",
    "seaborn.set_theme(context='notebook', style='ticks')"
   ]
  },
  {
   "cell_type": "code",
   "execution_count": null,
   "id": "336c36ed-6d0a-43e7-9910-c1b19d4c9730",
   "metadata": {},
   "outputs": [],
   "source": [
    "plt.rcParams['figure.figsize']"
   ]
  },
  {
   "cell_type": "code",
   "execution_count": null,
   "id": "fd84cdd7-4dbf-41ff-a90d-388333a1dcc8",
   "metadata": {},
   "outputs": [],
   "source": [
    "# Set figure defaults\n",
    "plt.rc('image', cmap='gray', interpolation='nearest')  # Display all images in b&w and with 'nearest' interpolation\n",
    "# scalefactor = 2\n",
    "# plt.rcParams['figure.figsize'] = (16 // scalefactor, 9 // scalefactor)  # Size up figures a bit\n",
    "# plt.rcParams['figure.dpi'] = 300"
   ]
  },
  {
   "cell_type": "code",
   "execution_count": null,
   "id": "45bb0398-17b5-4f54-b473-990e24ce0545",
   "metadata": {},
   "outputs": [],
   "source": [
    "# Set figure defaults\n",
    "plt.rc('image', cmap='gray', interpolation='nearest')  # Display all images in b&w and with 'nearest' interpolation\n",
    "scalefactor = 2\n",
    "plt.rcParams['figure.figsize'] = (16 // scalefactor, 9 // scalefactor)  # Size up figures a bit\n",
    "plt.rcParams['figure.dpi'] = 300"
   ]
  },
  {
   "cell_type": "code",
   "execution_count": null,
   "id": "7b301b8d-d460-4fa6-bbe4-9cf47f92c2bc",
   "metadata": {},
   "outputs": [],
   "source": [
    "# Necessary imports\n",
    "import platform\n",
    "import os\n",
    "import pandas\n",
    "import glob\n",
    "import pathlib\n",
    "from tqdm.auto import tqdm, trange\n",
    "import dask_image.imread"
   ]
  },
  {
   "cell_type": "code",
   "execution_count": null,
   "id": "6e700207-63fb-4e32-bec8-49eefd98adf2",
   "metadata": {},
   "outputs": [],
   "source": [
    "# Load our own log file parsing code\n",
    "# This is loaded as a submodule to alleviate excessive copy-pasting between *all* projects we do\n",
    "# See https://github.com/habi/BrukerSkyScanLogfileRuminator for details on its inner workings\n",
    "from BrukerSkyScanLogfileRuminator.parsing_functions import *"
   ]
  },
  {
   "cell_type": "code",
   "execution_count": null,
   "id": "e570c5c6-9c9a-420f-ab03-b98a4d773ada",
   "metadata": {},
   "outputs": [],
   "source": [
    "if 'Win' in platform.system():\n",
    "    Root = 'F:/'\n",
    "else:\n",
    "    Root = '/media/habi/Fast_SSD'\n",
    "Path = os.path.join(Root, 'Schmid BFH Methylcellulose')\n",
    "print('Our base path is %s' % Path)"
   ]
  },
  {
   "cell_type": "code",
   "execution_count": null,
   "id": "574de289-177e-4d0e-8874-d58cd78045bd",
   "metadata": {},
   "outputs": [],
   "source": [
    "# Make us a dataframe for saving all that we need\n",
    "Data = pandas.DataFrame()"
   ]
  },
  {
   "cell_type": "code",
   "execution_count": null,
   "id": "ed99fba6-8fc8-4cc3-bab4-8c55d1d50bfd",
   "metadata": {},
   "outputs": [],
   "source": [
    "# Get *all* log files present on disk\n",
    "# Using os.walk is way faster than using recursive glob.glob\n",
    "# Not sorting the found logfiles is also making it quicker\n",
    "Data['LogFile'] = [os.path.join(root, name)\n",
    "                   for root, dirs, files in os.walk(Path)\n",
    "                   for name in files\n",
    "                   if name.endswith((\".log\"))]"
   ]
  },
  {
   "cell_type": "code",
   "execution_count": null,
   "id": "09c1fa41-b1a2-48cf-8e6b-4394ee677db9",
   "metadata": {},
   "outputs": [],
   "source": [
    "# Get all folders\n",
    "Data['Folder'] = [os.path.dirname(f) for f in Data['LogFile']]\n",
    "Data['FolderShort'] = [folder[len(Root) + 1:] for folder in Data['Folder']]"
   ]
  },
  {
   "cell_type": "code",
   "execution_count": null,
   "id": "52e89523-3e51-4711-b1ae-fb81ca970812",
   "metadata": {},
   "outputs": [],
   "source": [
    "Data.sample(n=5)"
   ]
  },
  {
   "cell_type": "code",
   "execution_count": null,
   "id": "407a36cd-90f4-4660-9b11-58c26a9a65a0",
   "metadata": {},
   "outputs": [],
   "source": [
    "# Get rid of all the logfiles from all the folders that might be on disk but that we don't want to load the data from\n",
    "for c, row in Data.iterrows():\n",
    "    if 'proj' in os.path.split(row.Folder)[-1]:  # drop all projections folders\n",
    "        Data.drop([c], inplace=True)\n",
    "    if os.path.split(row.Folder)[-1] == 'PR':  # drop all phase retrieval folders for the moment\n",
    "        Data.drop([c], inplace=True)        \n",
    "    elif 'rectmp.log' in row.LogFile:  # drop temporary log files of samples currently being reconstructed\n",
    "        Data.drop([c], inplace=True)\n",
    "# Reset dataframe to something that we would get if we only would have loaded the 'rec' files\n",
    "Data = Data.reset_index(drop=True)"
   ]
  },
  {
   "cell_type": "code",
   "execution_count": null,
   "id": "4aca5421-3e81-43c3-90a4-cbec5026ede6",
   "metadata": {},
   "outputs": [],
   "source": [
    "# Generate us some meaningful colums in the dataframe\n",
    "Data['Sample'] = [('-').join([pathlib.Path(log).parts[-4], pathlib.Path(log).parts[-3]]) for log in Data['LogFile']]\n",
    "Data['Scan'] = [os.path.basename(os.path.dirname(log)) for log in Data['LogFile']]"
   ]
  },
  {
   "cell_type": "code",
   "execution_count": null,
   "id": "2272fe4e-e679-4a57-8241-1c4b71599c5b",
   "metadata": {},
   "outputs": [],
   "source": [
    "# Load the file names of all the reconstructions of all the scans\n",
    "Data['Filenames Reconstructions'] = [sorted(glob.glob(os.path.join(f, '*rec0*.png'))) for f in Data['Folder']]\n",
    "# How many reconstructions do we have?\n",
    "Data['Number of reconstructions'] = [len(r) for r in Data['Filenames Reconstructions']]"
   ]
  },
  {
   "cell_type": "code",
   "execution_count": null,
   "id": "b8b590aa-1dc4-4be7-8ccb-ee4736c409c2",
   "metadata": {},
   "outputs": [],
   "source": [
    "# Drop samples which have either not been reconstructed yet or of which we deleted the reconstructions with\n",
    "# `find . -name \"*rec*.png\" -type f -mtime +333 -delete`\n",
    "# Based on https://stackoverflow.com/a/13851602\n",
    "# for c,row in Data.iterrows():\n",
    "#     if not row['Number of reconstructions']:\n",
    "#         print('%s contains no PNG files, we might be currently reconstructing it' % row.Folder)\n",
    "Data = Data[Data['Number of reconstructions'] > 0]\n",
    "# Reset the dataframe count/index for easier indexing afterwards\n",
    "Data.reset_index(drop=True, inplace=True)\n",
    "print('We have %s folders with reconstructions' % (len(Data)))"
   ]
  },
  {
   "cell_type": "code",
   "execution_count": null,
   "id": "39fa1f4c-f818-4589-8ad8-e4bb9b3f3718",
   "metadata": {},
   "outputs": [],
   "source": [
    "# Get parameters to doublecheck from logfiles\n",
    "Data['Voxelsize'] = [pixelsize(log) for log in Data['LogFile']]\n",
    "Data['Camera'] = [camera(log) for log in Data['LogFile']]\n",
    "Data['Filter'] = [whichfilter(log) for log in Data['LogFile']]\n",
    "Data['Exposuretime'] = [exposuretime(log) for log in Data['LogFile']]\n",
    "Data['Scanner'] = [scanner(log) for log in Data['LogFile']]\n",
    "Data['Averaging'] = [averaging(log) for log in Data['LogFile']]\n",
    "Data['ProjectionSize'] = [projection_size(log) for log in Data['LogFile']]\n",
    "Data['RotationStep'] = [rotationstep(log) for log in Data['LogFile']]\n",
    "Data['Grayvalue'] = [reconstruction_grayvalue(log) for log in Data['LogFile']]\n",
    "Data['RingartefactCorrection'] = [ringremoval(log) for log in Data['LogFile']]\n",
    "Data['BeamHardeningCorrection'] = [beamhardening(log) for log in Data['LogFile']]\n",
    "Data['DefectPixelMasking'] = [defectpixelmasking(log) for log in Data['LogFile']]\n",
    "Data['Scan date'] = [scandate(log) for log in Data['LogFile']]"
   ]
  },
  {
   "cell_type": "code",
   "execution_count": null,
   "id": "6692822f-41e8-425c-96df-e4114be2535e",
   "metadata": {},
   "outputs": [],
   "source": [
    "# Get rid of all the scans except 'Framed'\n",
    "for c, row in Data.iterrows():\n",
    "    if 'Blobs' in row.LogFile or 'Chunks' in row.LogFile or 'Kreidegrund' in row.LogFile:\n",
    "        Data.drop([c], inplace=True)\n",
    "# Reset dataframe to something that we would get if we only would have loaded the 'rec' files\n",
    "Data = Data.reset_index(drop=True)"
   ]
  },
  {
   "cell_type": "code",
   "execution_count": null,
   "id": "7f750ea3-b6f2-472f-8eb5-975f8066e12c",
   "metadata": {},
   "outputs": [],
   "source": [
    "Data.Sample.unique()"
   ]
  },
  {
   "cell_type": "code",
   "execution_count": null,
   "id": "5bdaeb9e-1976-454f-84e6-34ede8907893",
   "metadata": {},
   "outputs": [],
   "source": [
    "# # Load all reconstructions DASK arrays\n",
    "# Reconstructions = [dask_image.imread.imread(os.path.join(folder,'*rec*.png')) for folder in Data['Folder']]\n",
    "# Load all reconstructions into ephemereal DASK arrays, with a nice progress bar...\n",
    "Reconstructions = [None] * len(Data)\n",
    "for c, row in tqdm(Data.iterrows(),\n",
    "                   desc='Loading reconstructions',\n",
    "                   total=len(Data)):\n",
    "    Reconstructions[c] = dask_image.imread.imread(os.path.join(row['Folder'], '*rec*.png'))[:,:,:,0]"
   ]
  },
  {
   "cell_type": "code",
   "execution_count": null,
   "id": "e35dcc32-4582-4e74-92b7-6008b8729fd3",
   "metadata": {},
   "outputs": [],
   "source": [
    "Reconstructions[0]"
   ]
  },
  {
   "cell_type": "code",
   "execution_count": null,
   "id": "0622bf56-5379-4ce6-a374-3dd6813d4d2e",
   "metadata": {},
   "outputs": [],
   "source": [
    "# Load test image\n",
    "inputimage = Reconstructions[0][Reconstructions[0].shape[0]//2].compute()"
   ]
  },
  {
   "cell_type": "code",
   "execution_count": null,
   "id": "2962c4c0-0550-434f-b0e7-1c2212129f41",
   "metadata": {},
   "outputs": [],
   "source": [
    "from matplotlib_scalebar.scalebar import ScaleBar\n",
    "# Setup scale bar defaults\n",
    "plt.rcParams['scalebar.location'] = 'lower right'\n",
    "plt.rcParams['scalebar.frameon'] = False\n",
    "plt.rcParams['scalebar.color'] = 'white'"
   ]
  },
  {
   "cell_type": "code",
   "execution_count": null,
   "id": "dca13b88-ce2d-46cd-be31-4b351fe159c7",
   "metadata": {},
   "outputs": [],
   "source": [
    "import skimage"
   ]
  },
  {
   "cell_type": "code",
   "execution_count": null,
   "id": "40c17846-93ca-4152-9ab4-c75750c37c0e",
   "metadata": {},
   "outputs": [],
   "source": [
    "# Show test image\n",
    "plt.imshow(skimage.exposure.equalize_adapthist(inputimage))\n",
    "plt.title('%s, %s x %s px' % (os.path.basename(Data['Filenames Reconstructions'][0][len(Data['Filenames Reconstructions'][0])//2]),\n",
    "                              inputimage.shape[0],\n",
    "                              inputimage.shape[1]))\n",
    "plt.gca().add_artist(ScaleBar(Data['Voxelsize'][0],'um'))\n",
    "plt.axis('off')\n",
    "plt.show()"
   ]
  },
  {
   "cell_type": "code",
   "execution_count": null,
   "id": "c972b263-c77f-4114-bf2d-1ce30d26d943",
   "metadata": {},
   "outputs": [],
   "source": [
    "# Use only central part of the image\n",
    "crop = 200\n",
    "plt.subplot(121)\n",
    "plt.imshow(inputimage)\n",
    "plt.axhline(crop)\n",
    "plt.axhline(inputimage.shape[0]-crop)\n",
    "plt.axvline(crop)\n",
    "plt.axvline(inputimage.shape[1]-crop)\n",
    "plt.gca().add_artist(ScaleBar(voxelsize,'um'))\n",
    "plt.axis('off')\n",
    "plt.subplot(122)\n",
    "croppedimage = inputimage[crop:-crop,crop:-crop]\n",
    "plt.imshow(skimage.exposure.equalize_adapthist(croppedimage))\n",
    "plt.title('Middle slice crop, %s x %s px' % (croppedimage.shape[0], croppedimage.shape[1]))\n",
    "plt.gca().add_artist(ScaleBar(voxelsize,'um'))\n",
    "plt.axis('off')\n",
    "plt.show()"
   ]
  },
  {
   "cell_type": "code",
   "execution_count": null,
   "id": "27c6643d-c135-403a-a7b9-429f6d5afd1c",
   "metadata": {},
   "outputs": [],
   "source": [
    "# Calculate thresholds to separate into foam and background\n",
    "threshold_iso = skimage.filters.threshold_isodata(croppedimage)\n",
    "threshold_otsu = skimage.filters.threshold_otsu(croppedimage)"
   ]
  },
  {
   "cell_type": "code",
   "execution_count": null,
   "id": "404dd073-b2f7-40ae-b874-3445d846934e",
   "metadata": {},
   "outputs": [],
   "source": [
    "# Display gray value histogram of image\n",
    "histogram = plt.hist(croppedimage.ravel(),\n",
    "                     bins='doane', # nice bin size selection\n",
    "                     histtype='bar',\n",
    "                     log=True,\n",
    "                     label='Histogram',\n",
    "                     color=seaborn.color_palette()[0])\n",
    "plt.axvline(threshold_iso, label='Isodata-Threshold@%s' % threshold_iso, c=seaborn.color_palette()[1])\n",
    "plt.axvline(threshold_otsu, label='Otsu-Threshold@%s' % threshold_otsu, c=seaborn.color_palette()[2])\n",
    "plt.legend()\n",
    "plt.title('Logarithmic grayvalue histogram with %s bins' % len(histogram[1]))\n",
    "seaborn.despine()\n",
    "plt.show()"
   ]
  },
  {
   "cell_type": "code",
   "execution_count": null,
   "id": "d5dc564c-f458-45a6-98b7-cd5c8e890bf7",
   "metadata": {},
   "outputs": [],
   "source": [
    "binarizedimage = croppedimage < threshold_iso  # porespy expects 'True' for features of interest, so we true stuff smaller than the threshold, e.g the air"
   ]
  },
  {
   "cell_type": "code",
   "execution_count": null,
   "id": "b2357076-ef02-409c-913c-c18d32584461",
   "metadata": {},
   "outputs": [],
   "source": [
    "plt.subplot(121)\n",
    "plt.imshow(croppedimage)\n",
    "plt.title('Center of original slice, %s x %s px' % (croppedimage.shape[0], croppedimage.shape[1]))\n",
    "plt.gca().add_artist(ScaleBar(voxelsize,'um'))\n",
    "plt.axis('off')\n",
    "plt.subplot(122)\n",
    "plt.imshow(~binarizedimage) # Invert for displaying\n",
    "plt.title('Binarized image, %s x %s px' % (binarizedimage.shape[0], binarizedimage.shape[1]))\n",
    "plt.gca().add_artist(ScaleBar(voxelsize,'um'))\n",
    "plt.axis('off')\n",
    "plt.show()"
   ]
  },
  {
   "cell_type": "code",
   "execution_count": null,
   "id": "20b7c851-ec7c-47db-9c9f-3c1b7e97d136",
   "metadata": {},
   "outputs": [],
   "source": [
    "localthickness=ps.filters.local_thickness(binarizedimage, sizes=50)"
   ]
  },
  {
   "cell_type": "code",
   "execution_count": null,
   "id": "33825d54-78c5-4a54-a2c6-5b9cb757256d",
   "metadata": {},
   "outputs": [],
   "source": [
    "import numpy as np"
   ]
  },
  {
   "cell_type": "code",
   "execution_count": null,
   "id": "98c7f73f-ba12-4948-bd76-8b08c5272c14",
   "metadata": {},
   "outputs": [],
   "source": [
    "len(np.unique(localthickness))"
   ]
  },
  {
   "cell_type": "code",
   "execution_count": null,
   "id": "8844a028-d20c-4c11-a255-dc0b4bd69b0b",
   "metadata": {},
   "outputs": [],
   "source": [
    "plt.subplot(131)\n",
    "plt.imshow(localthickness, cmap='magma')\n",
    "plt.gca().add_artist(ScaleBar(voxelsize,'um'))\n",
    "plt.axis('off')\n",
    "plt.subplot(132)\n",
    "plt.imshow(localthickness/binarizedimage, cmap='magma')\n",
    "plt.gca().add_artist(ScaleBar(voxelsize,'um'))\n",
    "plt.axis('off')\n",
    "plt.subplot(133)\n",
    "plt.imshow(~binarizedimage)\n",
    "plt.gca().add_artist(ScaleBar(voxelsize,'um'))\n",
    "plt.axis('off')\n",
    "plt.show()"
   ]
  },
  {
   "cell_type": "code",
   "execution_count": null,
   "id": "8adf9392-8d18-442a-abf3-71469e6361fd",
   "metadata": {},
   "outputs": [],
   "source": [
    "import scipy"
   ]
  },
  {
   "cell_type": "code",
   "execution_count": null,
   "id": "b3311450-4ead-425b-aba1-98ed63350a94",
   "metadata": {},
   "outputs": [],
   "source": [
    "dt = scipy.ndimage.distance_transform_edt(binarizedimage)\n",
    "distance = 100\n",
    "peaks = skimage.feature.peak_local_max(dt, min_distance=distance)\n",
    "# skeleton = skimage.morphology.skeletonize(skimage.morphology.dilation(binarizedimage))"
   ]
  },
  {
   "cell_type": "code",
   "execution_count": null,
   "id": "414d1512-119f-485c-ae8c-ebd317b8f22b",
   "metadata": {},
   "outputs": [],
   "source": [
    "# plt.imshow(skeleton)"
   ]
  },
  {
   "cell_type": "code",
   "execution_count": null,
   "id": "d367e3bb-8c32-4eb9-8fe8-6cfb77fc10e1",
   "metadata": {},
   "outputs": [],
   "source": [
    "plt.imshow(dt/binarizedimage, cmap='viridis')\n",
    "plt.gca().add_artist(ScaleBar(voxelsize,'um'))\n",
    "plt.axis('off')\n",
    "for peak in peaks:\n",
    "    plt.scatter(peak[1], peak[0], marker='x', c='white')\n",
    "plt.title('Distance transformation with %s overlaid peaks > %s px' % (len(peaks), distance))\n",
    "plt.show()"
   ]
  },
  {
   "cell_type": "code",
   "execution_count": null,
   "id": "71b0c163-3371-458e-9e15-2c44261b1d33",
   "metadata": {},
   "outputs": [],
   "source": [
    "pk = ps.filters.find_peaks(dt, r_max=50)"
   ]
  },
  {
   "cell_type": "code",
   "execution_count": null,
   "id": "fe7e6e43-3cc5-428c-8641-d5200ab0abd7",
   "metadata": {},
   "outputs": [],
   "source": [
    "fig, ax = plt.subplots(1, 2, figsize=[6, 3])\n",
    "\n",
    "pk = ps.filters.find_peaks(dt=dt)\n",
    "ax[0].imshow((dt/binarizedimage), cmap='viridis')\n",
    "ax[0].axis(False)\n",
    "plt.gca().add_artist(ScaleBar(voxelsize,'um'))\n",
    "\n",
    "ax[1].imshow(dt/\n",
    "             binarizedimage/\n",
    "             ~skimage.morphology.dilation(skimage.morphology.dilation(skimage.morphology.dilation(pk))), cmap='viridis')\n",
    "ax[1].axis(False);\n",
    "plt.axis('off')\n",
    "plt.show()"
   ]
  },
  {
   "cell_type": "markdown",
   "id": "2e01251f-be18-4950-860a-5997f1516a32",
   "metadata": {},
   "source": [
    "Pore size distribution as per https://nbviewer.org/github/PMEAL/porespy/blob/dev/examples/filters/tutorials/local_thickness.ipynb"
   ]
  },
  {
   "cell_type": "code",
   "execution_count": null,
   "id": "b6d8d5fd-0e50-433e-86f7-a342a929f432",
   "metadata": {},
   "outputs": [],
   "source": [
    "psd = ps.metrics.pore_size_distribution(localthickness,\n",
    "                                        log=False,\n",
    "                                        bins=25,\n",
    "                                        voxel_size=1.5)  # give the voxel size in um, then we get back um :)\n",
    "print(psd)"
   ]
  },
  {
   "cell_type": "code",
   "execution_count": null,
   "id": "db414f54-c27e-45db-8b7a-ac1e331995d4",
   "metadata": {},
   "outputs": [],
   "source": [
    "plt.bar(x=psd.R, height=psd.pdf, width=psd.bin_widths)\n",
    "plt.xlabel('Pore radius [um]')\n",
    "plt.ylabel('Normalized volume fraction')"
   ]
  },
  {
   "cell_type": "markdown",
   "id": "bf8b071b-8909-4558-9502-1f648bf08e11",
   "metadata": {},
   "source": [
    "SNOW partitioning, based on https://nbviewer.org/github/PMEAL/porespy/blob/dev/examples/filters/tutorials/snow_partitioning.ipynb"
   ]
  },
  {
   "cell_type": "code",
   "execution_count": null,
   "id": "e22a49d2-13f0-4811-9bda-119f727d10d3",
   "metadata": {},
   "outputs": [],
   "source": [
    "from skimage.morphology import binary_dilation\n",
    "ps.visualization.set_mpl_style()\n",
    "np.random.seed(1)"
   ]
  },
  {
   "cell_type": "code",
   "execution_count": null,
   "id": "9b8857fc-be3e-4c10-8edc-1c2b31f57469",
   "metadata": {},
   "outputs": [],
   "source": [
    "snow_out = ps.filters.snow_partitioning(binarizedimage, r_max=40, sigma=0.4)\n",
    "print(snow_out)"
   ]
  },
  {
   "cell_type": "code",
   "execution_count": null,
   "id": "1dcbc5d5-7351-4657-b855-d1a0cdba86c1",
   "metadata": {},
   "outputs": [],
   "source": [
    "dt_peak = snow_out.dt.copy()\n",
    "peaks_dilated = binary_dilation(snow_out.peaks >> 0)\n",
    "dt_peak[peaks_dilated > 0] = np.nan"
   ]
  },
  {
   "cell_type": "code",
   "execution_count": null,
   "id": "be2fd171-dfcc-4160-96a7-b1915af335c9",
   "metadata": {},
   "outputs": [],
   "source": [
    "plt.subplot(221)\n",
    "plt.imshow(~snow_out.im, cmap='gray')\n",
    "plt.title('(inverted) Binary image')\n",
    "plt.gca().add_artist(ScaleBar(voxelsize,'um'))\n",
    "plt.axis('off')\n",
    "plt.subplot(222)\n",
    "plt.imshow(snow_out.dt)\n",
    "plt.title('Distance transform')\n",
    "plt.gca().add_artist(ScaleBar(voxelsize,'um'))\n",
    "plt.axis('off')\n",
    "plt.subplot(223)\n",
    "plt.imshow(dt_peak)\n",
    "plt.title(\"Distance transform peaks\");\n",
    "plt.gca().add_artist(ScaleBar(voxelsize,'um'))\n",
    "plt.axis('off')\n",
    "plt.subplot(224)\n",
    "plt.imshow(ps.tools.randomize_colors(snow_out.regions)/binarizedimage)\n",
    "plt.title(\"Segmentation\")\n",
    "plt.gca().add_artist(ScaleBar(voxelsize,'um'))\n",
    "plt.axis('off')\n",
    "plt.show()"
   ]
  }
 ],
 "metadata": {
  "kernelspec": {
   "display_name": "Python 3 (ipykernel)",
   "language": "python",
   "name": "python3"
  },
  "language_info": {
   "codemirror_mode": {
    "name": "ipython",
    "version": 3
   },
   "file_extension": ".py",
   "mimetype": "text/x-python",
   "name": "python",
   "nbconvert_exporter": "python",
   "pygments_lexer": "ipython3",
   "version": "3.12.11"
  }
 },
 "nbformat": 4,
 "nbformat_minor": 5
}
